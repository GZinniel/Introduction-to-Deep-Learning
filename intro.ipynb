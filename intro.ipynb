{
  "nbformat": 4,
  "nbformat_minor": 0,
  "metadata": {
    "colab": {
      "name": "intro.ipynb",
      "provenance": [],
      "toc_visible": true,
      "authorship_tag": "ABX9TyNXC+Xw7HX4jJfWrHYqJEZi",
      "include_colab_link": true
    },
    "kernelspec": {
      "name": "python3",
      "display_name": "Python 3"
    },
    "language_info": {
      "name": "python"
    }
  },
  "cells": [
    {
      "cell_type": "markdown",
      "metadata": {
        "id": "view-in-github",
        "colab_type": "text"
      },
      "source": [
        "<a href=\"https://colab.research.google.com/github/GZinniel/Introduction-to-Deep-Learning/blob/main/intro.ipynb\" target=\"_parent\"><img src=\"https://colab.research.google.com/assets/colab-badge.svg\" alt=\"Open In Colab\"/></a>"
      ]
    },
    {
      "cell_type": "markdown",
      "source": [
        "##Write Some Text\n",
        "- This is the intro to DL Course\n",
        "- This is a new file"
      ],
      "metadata": {
        "id": "mFQ3fPCOc4Ye"
      }
    },
    {
      "cell_type": "code",
      "execution_count": null,
      "metadata": {
        "id": "u0a0rBeybJ3U"
      },
      "outputs": [],
      "source": [
        "import numpy as np\n",
        "import os\n",
        "import sys\n",
        "import torch"
      ]
    },
    {
      "cell_type": "markdown",
      "source": [
        "#####Trials for Print"
      ],
      "metadata": {
        "id": "dig9uUS5dl8J"
      }
    },
    {
      "cell_type": "markdown",
      "source": [
        "# New Section"
      ],
      "metadata": {
        "id": "9UJfnMqweI52"
      }
    },
    {
      "cell_type": "code",
      "source": [
        "print(\"new code cell\")"
      ],
      "metadata": {
        "id": "ucilwYticc4m"
      },
      "execution_count": null,
      "outputs": []
    },
    {
      "cell_type": "code",
      "source": [
        ""
      ],
      "metadata": {
        "id": "yvBkT6oKc3-a"
      },
      "execution_count": null,
      "outputs": []
    }
  ]
}